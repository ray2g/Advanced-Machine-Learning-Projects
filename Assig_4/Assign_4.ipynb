{
 "cells": [
  {
   "cell_type": "markdown",
   "id": "96a280ee",
   "metadata": {},
   "source": [
    "# Aprendizagem Automática Avançada"
   ]
  },
  {
   "cell_type": "markdown",
   "id": "785573c3",
   "metadata": {},
   "source": [
    "**Alunos:**\n",
    "    João Raimundo (57454), Rui Roque (57588)"
   ]
  },
  {
   "cell_type": "markdown",
   "id": "7e283d20",
   "metadata": {},
   "source": [
    "## Assigment #4 - Hidden Markov Models"
   ]
  },
  {
   "cell_type": "markdown",
   "id": "8dc76cd4",
   "metadata": {},
   "source": [
    "## Problema 2"
   ]
  },
  {
   "cell_type": "markdown",
   "id": "6ffd72bb",
   "metadata": {},
   "source": [
    "### 0.1 - Importação das Bibliotecas"
   ]
  },
  {
   "cell_type": "code",
   "execution_count": 269,
   "id": "4093c790",
   "metadata": {},
   "outputs": [],
   "source": [
    "import numpy as np\n",
    "import math\n",
    "import pandas as pd\n",
    "from hmmlearn.hmm import MultinomialHMM\n",
    "from sklearn.metrics import classification_report, accuracy_score, mean_squared_error"
   ]
  },
  {
   "cell_type": "markdown",
   "id": "73515ee9",
   "metadata": {},
   "source": [
    "### 0.2 - Definição de Funções"
   ]
  },
  {
   "cell_type": "code",
   "execution_count": 270,
   "id": "58654561",
   "metadata": {},
   "outputs": [],
   "source": [
    "def loadData(data, rolls = True):\n",
    "    arr = []\n",
    "    for i in data:\n",
    "        arr = np.append(arr, i)\n",
    "\n",
    "    arr = np.array([arr]).T\n",
    "    \n",
    "    if(rolls == True):\n",
    "        arr = arr.astype(\"int\")\n",
    "\n",
    "    return arr"
   ]
  },
  {
   "cell_type": "markdown",
   "id": "5c302b2b",
   "metadata": {},
   "source": [
    "### 0.3 - Definição dos Dados"
   ]
  },
  {
   "cell_type": "markdown",
   "id": "ae30a273",
   "metadata": {},
   "source": [
    "O conjunto de dados **X_train** foi denifido com a amostra \"Rolls\" do enunciado sem os 10 últimos caracteres/records."
   ]
  },
  {
   "cell_type": "code",
   "execution_count": 271,
   "id": "d78d36ca",
   "metadata": {},
   "outputs": [
    {
     "data": {
      "text/plain": [
       "array([[6],\n",
       "       [6],\n",
       "       [4],\n",
       "       [1],\n",
       "       [5],\n",
       "       [3],\n",
       "       [2],\n",
       "       [1],\n",
       "       [6],\n",
       "       [1],\n",
       "       [6],\n",
       "       [2],\n",
       "       [1],\n",
       "       [1],\n",
       "       [5],\n",
       "       [2],\n",
       "       [3],\n",
       "       [4],\n",
       "       [6],\n",
       "       [5],\n",
       "       [3],\n",
       "       [2],\n",
       "       [1],\n",
       "       [4],\n",
       "       [3],\n",
       "       [5],\n",
       "       [6],\n",
       "       [6],\n",
       "       [3],\n",
       "       [4],\n",
       "       [2],\n",
       "       [6],\n",
       "       [1],\n",
       "       [6],\n",
       "       [5],\n",
       "       [5],\n",
       "       [2],\n",
       "       [3],\n",
       "       [4],\n",
       "       [2],\n",
       "       [3],\n",
       "       [2],\n",
       "       [3],\n",
       "       [1],\n",
       "       [5],\n",
       "       [1],\n",
       "       [4],\n",
       "       [2],\n",
       "       [4],\n",
       "       [6]])"
      ]
     },
     "execution_count": 271,
     "metadata": {},
     "output_type": "execute_result"
    }
   ],
   "source": [
    "# X_train\n",
    "X_train = loadData(\"66415321616211523465321435663426165523423231514246\")\n",
    "\n",
    "X_train"
   ]
  },
  {
   "cell_type": "markdown",
   "id": "9253183c",
   "metadata": {},
   "source": [
    "Apesar de não ser usado, o conjunto de dados **y_train** (target) foi definido pelos com a amostra \"Dice\" do enunciado sem os 10 últimos caracteres/records."
   ]
  },
  {
   "cell_type": "code",
   "execution_count": 272,
   "id": "233c55ca",
   "metadata": {},
   "outputs": [
    {
     "data": {
      "text/plain": [
       "array([['L'],\n",
       "       ['L'],\n",
       "       ['L'],\n",
       "       ['L'],\n",
       "       ['L'],\n",
       "       ['L'],\n",
       "       ['L'],\n",
       "       ['L'],\n",
       "       ['L'],\n",
       "       ['L'],\n",
       "       ['L'],\n",
       "       ['L'],\n",
       "       ['L'],\n",
       "       ['L'],\n",
       "       ['F'],\n",
       "       ['F'],\n",
       "       ['F'],\n",
       "       ['F'],\n",
       "       ['F'],\n",
       "       ['F'],\n",
       "       ['L'],\n",
       "       ['L'],\n",
       "       ['L'],\n",
       "       ['L'],\n",
       "       ['L'],\n",
       "       ['L'],\n",
       "       ['L'],\n",
       "       ['L'],\n",
       "       ['L'],\n",
       "       ['L'],\n",
       "       ['L'],\n",
       "       ['L'],\n",
       "       ['L'],\n",
       "       ['L'],\n",
       "       ['F'],\n",
       "       ['F'],\n",
       "       ['F'],\n",
       "       ['F'],\n",
       "       ['F'],\n",
       "       ['F'],\n",
       "       ['F'],\n",
       "       ['F'],\n",
       "       ['F'],\n",
       "       ['F'],\n",
       "       ['F'],\n",
       "       ['F'],\n",
       "       ['F'],\n",
       "       ['F'],\n",
       "       ['F'],\n",
       "       ['F']], dtype='<U32')"
      ]
     },
     "execution_count": 272,
     "metadata": {},
     "output_type": "execute_result"
    }
   ],
   "source": [
    "# y_train\n",
    "y_train = loadData(\"LLLLLLLLLLLLLLFFFFFFLLLLLLLLLLLLLLFFFFFFFFFFFFFFFF\", rolls=False)\n",
    "\n",
    "y_train"
   ]
  },
  {
   "cell_type": "markdown",
   "id": "af781105",
   "metadata": {},
   "source": [
    "O conjunto de dados **X_test** foi denifido pelos últimos 10 caracteres/records da amostra \"Rolls\" do enunciado.\n",
    "\n",
    "Uma vez que o modelo \"MultinomialHMM\" da biblioteca \"hmmlearn.hmm\" está programado de forma que assume como index inicial dos arrays o valor 1, em vez do index zero. Pelo que subtraimos -1 a cada um dos valores definidos no array (X_test), caso contrario o modelo quando testado não reconheceria os valores treinados pelo conjunto de treino."
   ]
  },
  {
   "cell_type": "code",
   "execution_count": 273,
   "id": "8e7b90a5",
   "metadata": {},
   "outputs": [
    {
     "data": {
      "text/plain": [
       "array([[3],\n",
       "       [0],\n",
       "       [4],\n",
       "       [5],\n",
       "       [5],\n",
       "       [5],\n",
       "       [2],\n",
       "       [1],\n",
       "       [3],\n",
       "       [5]])"
      ]
     },
     "execution_count": 273,
     "metadata": {},
     "output_type": "execute_result"
    }
   ],
   "source": [
    "# X_test\n",
    "X_test = loadData(\"4156663246\")\n",
    "\n",
    "X_test = X_test-1\n",
    "X_test"
   ]
  },
  {
   "cell_type": "markdown",
   "id": "99de2332",
   "metadata": {},
   "source": [
    "O conjunto de dados **y_test** foi denifido pelos últimos 10 caracteres/records da amostra \"Dice\" do enunciado.\n"
   ]
  },
  {
   "cell_type": "code",
   "execution_count": 274,
   "id": "2edf7ebf",
   "metadata": {},
   "outputs": [
    {
     "data": {
      "text/plain": [
       "array([['F'],\n",
       "       ['F'],\n",
       "       ['L'],\n",
       "       ['L'],\n",
       "       ['L'],\n",
       "       ['L'],\n",
       "       ['L'],\n",
       "       ['L'],\n",
       "       ['L'],\n",
       "       ['L']], dtype='<U32')"
      ]
     },
     "execution_count": 274,
     "metadata": {},
     "output_type": "execute_result"
    }
   ],
   "source": [
    "#y_test\n",
    "y_test = loadData(\"FFLLLLLLLL\", rolls=False)\n",
    "\n",
    "y_test"
   ]
  },
  {
   "cell_type": "markdown",
   "id": "aff14e76",
   "metadata": {},
   "source": [
    "Adicionalmente foi criada uma variável y_test_bin onde os valores do conjunto y_test foram mapeados para um formato binário: F=0, L=1."
   ]
  },
  {
   "cell_type": "code",
   "execution_count": 275,
   "id": "b92bba9d",
   "metadata": {},
   "outputs": [
    {
     "data": {
      "text/plain": [
       "array([0, 0, 1, 1, 1, 1, 1, 1, 1, 1])"
      ]
     },
     "execution_count": 275,
     "metadata": {},
     "output_type": "execute_result"
    }
   ],
   "source": [
    "# mapeamento dos valores da variável y_test para um formato binário: F=0, L=1\n",
    "y_test_bin = []\n",
    "\n",
    "for i in \"FFLLLLLLLL\":\n",
    "    if(i == \"F\"):\n",
    "        y_test_bin = np.append(y_test_bin, 0)\n",
    "    else:\n",
    "        y_test_bin = np.append(y_test_bin, 1)\n",
    "\n",
    "y_test_bin = y_test_bin.astype(int)\n",
    "\n",
    "y_test_bin"
   ]
  },
  {
   "cell_type": "markdown",
   "id": "bcf23e04",
   "metadata": {},
   "source": [
    "### 1. Construção, Treino do Modelo Classificatório MultinomialHMM e Previsão dos Valores do Conjunto de Teste"
   ]
  },
  {
   "cell_type": "markdown",
   "id": "94a68371",
   "metadata": {},
   "source": [
    "#### 1.1. Alínea A)"
   ]
  },
  {
   "cell_type": "markdown",
   "id": "25e46a8d",
   "metadata": {},
   "source": [
    "* Definição dos states para os dois dados: Fair & Loaded (π1, π2 respetivamente)\n",
    "* Criação das *stationary probabilities* para os dois states\n",
    "* Definição dos valores a serem usados na matrix de transição \n",
    "\n",
    "* Criação do Modelo Classificatório: MultinomialHMM() com os dois states criados\n",
    "* Definição do estado inicial das stationary probabilities no modelo MHMM com os valores de π\n",
    "* Definição do estado da  matriz de transição no modelo classificatório MHMM com as probabilidades de transição entre estados\n",
    "* Definição do estado da matriz de emissão no modelo classificatório MHMM com as probabilidades de calhar as faces em cada um dos dados\n",
    "* Previsão dos valores do conjunto X_test\n",
    "* Cálculo dos valores de log likelihood (log probability) para o conjunto X_test\n",
    "* (Adicional) Cálculo dos erros - Comparação entre 1-accuracy e mean squared error\n",
    "* (Adicional) Cálculo das várias métricas de score (ClassificationReport)"
   ]
  },
  {
   "cell_type": "code",
   "execution_count": 276,
   "id": "7ab31d4e",
   "metadata": {},
   "outputs": [
    {
     "name": "stdout",
     "output_type": "stream",
     "text": [
      "preds {0:F, L:1}: [1 1 1 1 1 1 1 1 1 1]\n",
      "rolls (X_test): 4, 1, 5, 6, 6, 6, 3, 2, 4, 6\n",
      "dice (preds):   L, L, L, L, L, L, L, L, L, L \n",
      "\n",
      "\n",
      "Log Likelihood:  -16.98461390418157 \n",
      "\n",
      "error:  0.19999999999999996\n",
      "mean squared error:  0.2 \n",
      "\n",
      "Classification Report:\n",
      "\n",
      "               precision    recall  f1-score   support\n",
      "\n",
      "           0       0.00      0.00      0.00         2\n",
      "           1       0.80      1.00      0.89         8\n",
      "\n",
      "    accuracy                           0.80        10\n",
      "   macro avg       0.40      0.50      0.44        10\n",
      "weighted avg       0.64      0.80      0.71        10\n",
      "\n"
     ]
    }
   ],
   "source": [
    "# definição dos states: dados = Fair & Loaded\n",
    "states = [\"F\", \"L\"] \n",
    "\n",
    "# stationary probabilities\n",
    "pi1 = 0.1/(0.05+0.1) # fair\n",
    "pi2 = 0.05/(0.05+0.1) # load\n",
    "\n",
    "# probabilidade de o estado fair passar para o estado loaded\n",
    "alpha = 0.05\n",
    "# probabilidade de o estado loaded passar para o estado fair\n",
    "beta = 0.1\n",
    "# probabilidade de o estado fair passar para o estado fair\n",
    "aux1 = 1-alpha\n",
    "# probabilidade de o estado loaded passar para o estado loaded\n",
    "aux2 = 1-beta\n",
    "\n",
    "# Criação do modelo MHMM\n",
    "model = MultinomialHMM(n_components=2)\n",
    "\n",
    "# Definição do estado inicial das stationary probabilities no modelo MHMM \n",
    "model.startprob_= [pi1,pi2]\n",
    "\n",
    "# Definição do estado da matrix de transição no modelo MHMM \n",
    "model.transmat_=  np.array([[aux1, alpha],\n",
    "                [beta, aux2]])\n",
    "                \n",
    "\n",
    "# emission matrix - probabilidade de sair cada face do dado em cada estado\n",
    "model.emissionprob_ = np.array([[1/6, 1/6, 1/6, 1/6, 1/6, 1/6],[1/10, 1/10, 1/10, 1/10, 1/10, 5/10]])\n",
    "\n",
    "# predictions \n",
    "preds = model.predict(X_test)\n",
    "\n",
    "# log probability\n",
    "score = model.score(X_test)\n",
    "\n",
    "print(\"preds {0:F, L:1}:\", preds)\n",
    "print(\"rolls (X_test): 4, 1, 5, 6, 6, 6, 3, 2, 4, 6\") # X_test\n",
    "print (\"dice (preds):  \", \", \".join(map(lambda x: states[x], preds)), \"\\n\\n\")\n",
    "\n",
    "print(\"Log Likelihood: \", score, \"\\n\")\n",
    "\n",
    "# cálculo do erro e metricas de score\n",
    "print(\"error: \", 1 - accuracy_score(y_test_bin, preds))\n",
    "print(\"mean squared error: \", mean_squared_error(y_test_bin, preds), \"\\n\")\n",
    "print(\"Classification Report:\\n\\n\", classification_report(y_test_bin, preds, zero_division=False))"
   ]
  },
  {
   "cell_type": "markdown",
   "id": "ccdcdd9e",
   "metadata": {},
   "source": [
    "O likelihood mede quão bem o modelo se ajusta aos dados."
   ]
  },
  {
   "cell_type": "markdown",
   "id": "cf961278",
   "metadata": {},
   "source": [
    "#### 1.2. Alínea B)"
   ]
  },
  {
   "cell_type": "markdown",
   "id": "d92c297a",
   "metadata": {},
   "source": [
    "Na alínea B procedemos com a mesma metodologia da alínea A), porém não foram definidos os estados iniciais das \"stationary probabilities\" e da matriz de transição no modelo MHMM."
   ]
  },
  {
   "cell_type": "code",
   "execution_count": 277,
   "id": "697a8af1",
   "metadata": {},
   "outputs": [
    {
     "name": "stdout",
     "output_type": "stream",
     "text": [
      "preds {0:F, L:1}: [1 1 1 1 1 1 1 1 1 0]\n",
      "rolls (X_test): 4, 1, 5, 6, 6, 6, 3, 2, 4, 6\n",
      "dice (preds):   L, L, L, L, L, L, L, L, L, F \n",
      "\n",
      "\n",
      "Log Likelihood:  -inf \n",
      "\n",
      "error:  0.30000000000000004\n",
      "mean squared error:  0.3 \n",
      "\n",
      "Classification Report:\n",
      "\n",
      "               precision    recall  f1-score   support\n",
      "\n",
      "           0       0.00      0.00      0.00         2\n",
      "           1       0.78      0.88      0.82         8\n",
      "\n",
      "    accuracy                           0.70        10\n",
      "   macro avg       0.39      0.44      0.41        10\n",
      "weighted avg       0.62      0.70      0.66        10\n",
      "\n"
     ]
    }
   ],
   "source": [
    "# Criação do modelo MHMM\n",
    "model = MultinomialHMM(n_components=2)\n",
    "\n",
    "# emission matrix - probabilidade de sair cada face do dado em cada estado\n",
    "model.emissionprob_ = np.array([[1/6, 1/6, 1/6, 1/6, 1/6, 1/6],[1/10, 1/10, 1/10, 1/10, 1/10, 5/10]])\n",
    "\n",
    "# fit do modelo com os o set X_train\n",
    "model.fit(X_train)\n",
    "\n",
    "# predictions \n",
    "preds = model.predict(X_test)\n",
    "\n",
    "# log Likelihood\n",
    "score = model.score(X_test)\n",
    "\n",
    "\n",
    "print(\"preds {0:F, L:1}:\", preds)\n",
    "print(\"rolls (X_test): 4, 1, 5, 6, 6, 6, 3, 2, 4, 6\") # X_test\n",
    "print (\"dice (preds):  \", \", \".join(map(lambda x: states[x], preds)), \"\\n\\n\")\n",
    "\n",
    "print(\"Log Likelihood: \", score, \"\\n\")\n",
    "\n",
    "# cálculo do erro e metricas de score\n",
    "print(\"error: \", 1 - accuracy_score(y_test_bin, preds))\n",
    "print(\"mean squared error: \", mean_squared_error(y_test_bin, preds), \"\\n\")\n",
    "print(\"Classification Report:\\n\\n\", classification_report(y_test_bin, preds, zero_division=False))"
   ]
  },
  {
   "cell_type": "markdown",
   "id": "d006382a",
   "metadata": {},
   "source": [
    "Quando não definidos os estados iniciais das \"stationary probabilities\" e da matriz de transição verificamos que o valor da log-likelihood é - infinito.\n",
    "\n",
    "Quanto mais próximo de zero for o valor da log-likelihood melhor será o ajusto do modelo aos dados. Desta forma uma vez que o modelo da alínea A) obteve o valor de log-likelihood= ~ -17 e na alínea B) obtivemos um log-likelihood= -infinito verifica-se que o modelo treinado na alínea A) consegue-se ajustar melhor aos dados que o modelo da alínea B)."
   ]
  },
  {
   "cell_type": "markdown",
   "id": "e1a2ae98",
   "metadata": {},
   "source": [
    "#### 1.3. Alínea C)"
   ]
  },
  {
   "cell_type": "markdown",
   "id": "705b0335",
   "metadata": {},
   "source": [
    "Na alínea C) iremos comparar os valores de log-likelihood para um modelo quando treinado com um conjunto de dados de 100 e 1000 amostras, e testado posteriormente com um y_test constituído por 30 amostras para:\n",
    "\n",
    "* Um modelo onde não é definido o estado inicial das \"stationary probabilities\", matriz de transmissão e emissão (1.3.1.)\n",
    "* Um modelo onde todos os parâmetros são desconhecidos incluindo o número de estados, testando valores para o número de estados, [1-4] (1.3.2.)"
   ]
  },
  {
   "cell_type": "markdown",
   "id": "7976c1ec",
   "metadata": {},
   "source": [
    "### 1.3.0.1. Importação dos dados"
   ]
  },
  {
   "cell_type": "markdown",
   "id": "3756feb3",
   "metadata": {},
   "source": [
    "À semelhança das alíneas anteriores subtraimos também -1 a todos os valores do array dos rolls."
   ]
  },
  {
   "cell_type": "code",
   "execution_count": 278,
   "id": "825a9122",
   "metadata": {},
   "outputs": [
    {
     "name": "stdout",
     "output_type": "stream",
     "text": [
      "Rolls dataset: [[0]\n",
      " [4]\n",
      " [2]\n",
      " ...\n",
      " [2]\n",
      " [4]\n",
      " [3]] \n",
      "\n",
      "Rolls dataset lenght: 1100 \n",
      "\n",
      "\n",
      "Dice dataset: [['F']\n",
      " ['F']\n",
      " ['F']\n",
      " ...\n",
      " ['F']\n",
      " ['F']\n",
      " ['F']] \n",
      "\n",
      "Dice dataset lenght: 1100 \n",
      "\n",
      "\n"
     ]
    }
   ],
   "source": [
    "# Rolls (features)\n",
    "rolls = pd.read_csv(\"rolls.txt\", sep=\"\\t\", header=None)\n",
    "\n",
    "rolls = np.array(rolls)\n",
    "\n",
    "rolls = rolls - 1\n",
    "\n",
    "print(\"Rolls dataset:\",rolls, \"\\n\")\n",
    "print(\"Rolls dataset lenght:\",len(rolls),\"\\n\\n\")\n",
    "\n",
    "# Dice (target)\n",
    "dice = pd.read_csv(\"dice.txt\", sep=\"\\t\", header=None)\n",
    "\n",
    "dice = np.array(dice)\n",
    "\n",
    "print(\"Dice dataset:\",dice, \"\\n\")\n",
    "print(\"Dice dataset lenght:\",len(dice),\"\\n\\n\")"
   ]
  },
  {
   "cell_type": "markdown",
   "id": "d4b1362d",
   "metadata": {},
   "source": [
    "### 1.3.0.2. Definição dos conjuntos de dados"
   ]
  },
  {
   "cell_type": "code",
   "execution_count": 279,
   "id": "e4b27b94",
   "metadata": {},
   "outputs": [
    {
     "name": "stdout",
     "output_type": "stream",
     "text": [
      "x_train_rolls100: 100 \n",
      "\n",
      "x_train_rolls1000: 1000 \n",
      "\n",
      "x_test: 30\n"
     ]
    }
   ],
   "source": [
    "## Test set features\n",
    "\n",
    "# seleção dos 100 primeiros valores no array\n",
    "x_train_rolls100 = rolls[0:100]\n",
    "\n",
    "# seleção dos 1000 primeiros valores no array\n",
    "x_train_rolls1000 = rolls[0:1000]\n",
    "\n",
    "# seleção dos últimos 30 valores da amostra do array para definir o X_test\n",
    "x_test = rolls[1070:1100] # 30 amostras\n",
    "\n",
    "print(\"x_train_rolls100:\", len(x_train_rolls100), \"\\n\")\n",
    "print(\"x_train_rolls1000:\", len(x_train_rolls1000), \"\\n\")\n",
    "print(\"x_test:\", len(x_test))"
   ]
  },
  {
   "cell_type": "code",
   "execution_count": 280,
   "id": "48320038",
   "metadata": {},
   "outputs": [],
   "source": [
    "# definição de uma função para mapeamento dos valores da variável y_test para um formato binário: F=0, L=1\n",
    "def convertToBin(arr):\n",
    "    y_test_bin = []\n",
    "\n",
    "    for i in arr:\n",
    "        if(i[0] == \"F\"):\n",
    "            y_test_bin = np.append(y_test_bin, 0)\n",
    "        else:\n",
    "            y_test_bin = np.append(y_test_bin, 1)\n",
    "\n",
    "    y_test_bin = y_test_bin.astype(int)\n",
    "    return y_test_bin"
   ]
  },
  {
   "cell_type": "code",
   "execution_count": 281,
   "id": "11ff50a4",
   "metadata": {},
   "outputs": [],
   "source": [
    "# seleção dos 100 primeiros valores no array - train set target\n",
    "y_train_dice100 = dice[0:100]\n",
    "\n",
    "# seleção dos 1000 primeiros valores no array - train set target\n",
    "y_train_dice1000 = dice[0:1000]\n",
    "\n",
    "# seleção dos últimos 30 valores da amostra do array para definir o y_test\n",
    "y_test = dice[1001:1031]\n",
    "\n",
    "# conversão dos valores da amostra para o formato binário\n",
    "y_test_bin = convertToBin(y_test)"
   ]
  },
  {
   "cell_type": "markdown",
   "id": "f213e8e7",
   "metadata": {},
   "source": [
    "### 1.3.1. (I) Rolls com 100 amostras e \"stationary probabilities\", matriz de transição e emissão desconhecidas"
   ]
  },
  {
   "cell_type": "markdown",
   "id": "e09d2098",
   "metadata": {},
   "source": [
    "#### 1.3.1.1. Construção, Treino do Modelo Classificatório MultinomialHMM e Previsão dos Valores do Conjunto de Teste"
   ]
  },
  {
   "cell_type": "code",
   "execution_count": 282,
   "id": "1e874ea0",
   "metadata": {},
   "outputs": [
    {
     "name": "stdout",
     "output_type": "stream",
     "text": [
      "preds {0:F, L:1}: [0 1 1 1 0 1 1 1 1 1 1 0 1 0 0 1 1 1 1 0 1 1 0 0 0 0 0 0 0 1]\n",
      "dice (preds):   F, L, L, L, F, L, L, L, L, L, L, F, L, F, F, L, L, L, L, F, L, L, F, F, F, F, F, F, F, L \n",
      "\n",
      "\n",
      "Log Likelihood:  -58.423164121333 \n",
      "\n",
      "\n",
      "error:  0.6333333333333333\n",
      "mean squared error:  0.6333333333333333 \n",
      "\n",
      "Classification Report:\n",
      "\n",
      "               precision    recall  f1-score   support\n",
      "\n",
      "           0       0.85      0.39      0.54        28\n",
      "           1       0.00      0.00      0.00         2\n",
      "\n",
      "    accuracy                           0.37        30\n",
      "   macro avg       0.42      0.20      0.27        30\n",
      "weighted avg       0.79      0.37      0.50        30\n",
      "\n"
     ]
    }
   ],
   "source": [
    "model = MultinomialHMM(n_components=2, random_state=42)\n",
    "\n",
    "model.fit(x_train_rolls100)\n",
    "\n",
    "# predictions \n",
    "preds100 = model.predict(x_test)\n",
    "\n",
    "# log Likelihood\n",
    "score = model.score(x_test)\n",
    "\n",
    "print(\"preds {0:F, L:1}:\", preds100)\n",
    "print (\"dice (preds):  \", \", \".join(map(lambda x: states[x], preds100)), \"\\n\\n\")\n",
    "\n",
    "print(\"Log Likelihood: \", score, \"\\n\\n\")\n",
    "\n",
    "# cálculo do erro e metricas de score\n",
    "print(\"error: \", 1 - accuracy_score(y_test_bin, preds100))\n",
    "print(\"mean squared error: \", mean_squared_error(y_test_bin, preds100), \"\\n\")\n",
    "print(\"Classification Report:\\n\\n\", classification_report(y_test_bin, preds100, zero_division=False))"
   ]
  },
  {
   "cell_type": "markdown",
   "id": "f213e8e7",
   "metadata": {},
   "source": [
    "### 1.3.2. (I) Rolls com 1000 amostras e \"stationary probabilities\", matriz de transição e emissão desconhecidas"
   ]
  },
  {
   "cell_type": "markdown",
   "id": "00cf09db",
   "metadata": {},
   "source": [
    "#### 1.3.1.1. Construção, Treino do Modelo Classificatório MultinomialHMM e Previsão dos Valores do Conjunto de Teste"
   ]
  },
  {
   "cell_type": "code",
   "execution_count": 283,
   "id": "60ac96ef",
   "metadata": {},
   "outputs": [
    {
     "name": "stdout",
     "output_type": "stream",
     "text": [
      "preds {0:F, L:1}: [0 0 1 1 0 0 0 0 1 1 1 0 1 0 0 0 0 0 0 0 0 1 0 0 0 0 0 0 0 0]\n",
      "dice (preds):   F, F, L, L, F, F, F, F, L, L, L, F, L, F, F, F, F, F, F, F, F, L, F, F, F, F, F, F, F, F \n",
      "\n",
      "\n",
      "Log Likelihood:  -55.79630141304058 \n",
      "\n",
      "\n",
      "error:  0.30000000000000004\n",
      "mean squared error:  0.3 \n",
      "\n",
      "Classification Report:\n",
      "\n",
      "               precision    recall  f1-score   support\n",
      "\n",
      "           0       0.91      0.75      0.82        28\n",
      "           1       0.00      0.00      0.00         2\n",
      "\n",
      "    accuracy                           0.70        30\n",
      "   macro avg       0.46      0.38      0.41        30\n",
      "weighted avg       0.85      0.70      0.77        30\n",
      "\n"
     ]
    }
   ],
   "source": [
    "model = MultinomialHMM(n_components=2, random_state=42)\n",
    "\n",
    "model.fit(x_train_rolls1000)\n",
    "\n",
    "# predictions \n",
    "preds1000 = model.predict(x_test)\n",
    "\n",
    "# log Likelihood\n",
    "score = model.score(x_test)\n",
    "\n",
    "print(\"preds {0:F, L:1}:\", preds1000)\n",
    "print (\"dice (preds):  \", \", \".join(map(lambda x: states[x], preds1000)), \"\\n\\n\")\n",
    "\n",
    "print(\"Log Likelihood: \", score, \"\\n\\n\")\n",
    "\n",
    "\n",
    "# cálculo do erro e metricas de score\n",
    "print(\"error: \", 1 - accuracy_score(y_test_bin, preds1000))\n",
    "print(\"mean squared error: \", mean_squared_error(y_test_bin, preds1000), \"\\n\")\n",
    "print(\"Classification Report:\\n\\n\", classification_report(y_test_bin, preds1000, zero_division=False))"
   ]
  },
  {
   "cell_type": "markdown",
   "id": "f5c23524",
   "metadata": {},
   "source": [
    "Verifica-se com os resultados obtidos nos pontos 1.3.1. e 1.3.2. que o modelo treinado com 1000 amostras do conjunto Rolls, obteve um valor de log-likelihood (-55.8) superior ao do modelo treinado com 100 amostras (-58.4). Este resultado poderá indicar que quanto maior for a dimensão do conjunto de dados melhor será o ajuste do modelo aos dados, devido a um treino melhor suportado.\n",
    "\n",
    "Adicionalmente, esta conclusão pode ser complementada pelos valores dos erros obtidos em cada um dos modelos - o modelo com a amostra 1000 do conjunto Rolls obteve menos 33% de erro que o modelo com uma amostragem de 100 - bem como fazendo referência às várias métricas de score obtidas. A macro average f1-score do modelo com 1000 amostras (0.41) é superior à do modelo com 100 amostras (0.27)."
   ]
  },
  {
   "cell_type": "markdown",
   "id": "e3e96c97",
   "metadata": {},
   "source": [
    "### 1.3.3.0. Definição de Funções para treinar e testar o modelo"
   ]
  },
  {
   "cell_type": "code",
   "execution_count": 284,
   "id": "2bf106db",
   "metadata": {},
   "outputs": [],
   "source": [
    "def classifyMHMM_model(n_components, x_train, x_test, y_test):\n",
    "    #states = [\"F\", \"L\"] \n",
    "    model = MultinomialHMM(n_components=n_components, random_state=42)\n",
    "\n",
    "    model.fit(x_train)\n",
    "\n",
    "    # predictions \n",
    "    preds = model.predict(x_test)\n",
    "\n",
    "    # log Likelihood\n",
    "    score = model.score(x_test)\n",
    "\n",
    "    print(\"preds {0:F, L:1}:\", preds)\n",
    "    print(\"\\n\\n\")\n",
    "\n",
    "    print(\"Log Likelihood: \", score, \"\\n\\n\")\n",
    "\n",
    "    # cálculo do erro e metricas de score\n",
    "    print(\"error: \", 1 - accuracy_score(y_test, preds))\n",
    "    print(\"mean squared error: \", mean_squared_error(y_test, preds), \"\\n\")\n",
    "    print(\"Classification Report:\\n\\n\", classification_report(y_test, preds, zero_division=False))\n",
    "    print(\"----------------------------------------------------------\\n\")"
   ]
  },
  {
   "cell_type": "markdown",
   "id": "e3e96c97",
   "metadata": {},
   "source": [
    "### 1.3.3.1. (II) Rolls com 100 amostras com todos o parâmetro desconhecidos e alterando o valor dos estados [1-4]"
   ]
  },
  {
   "cell_type": "code",
   "execution_count": 285,
   "id": "676e2814",
   "metadata": {},
   "outputs": [
    {
     "name": "stdout",
     "output_type": "stream",
     "text": [
      "Number of states:  1\n",
      "preds {0:F, L:1}: [0 0 0 0 0 0 0 0 0 0 0 0 0 0 0 0 0 0 0 0 0 0 0 0 0 0 0 0 0 0]\n",
      "\n",
      "\n",
      "\n",
      "Log Likelihood:  -56.87454481610908 \n",
      "\n",
      "\n",
      "error:  0.06666666666666665\n",
      "mean squared error:  0.06666666666666667 \n",
      "\n",
      "Classification Report:\n",
      "\n",
      "               precision    recall  f1-score   support\n",
      "\n",
      "           0       0.93      1.00      0.97        28\n",
      "           1       0.00      0.00      0.00         2\n",
      "\n",
      "    accuracy                           0.93        30\n",
      "   macro avg       0.47      0.50      0.48        30\n",
      "weighted avg       0.87      0.93      0.90        30\n",
      "\n",
      "----------------------------------------------------------\n",
      "\n",
      "\n",
      "\n",
      "Number of states:  2\n",
      "preds {0:F, L:1}: [0 1 1 1 0 1 1 1 1 1 1 0 1 0 0 1 1 1 1 0 1 1 0 0 0 0 0 0 0 1]\n",
      "\n",
      "\n",
      "\n",
      "Log Likelihood:  -58.423164121333 \n",
      "\n",
      "\n",
      "error:  0.6333333333333333\n",
      "mean squared error:  0.6333333333333333 \n",
      "\n",
      "Classification Report:\n",
      "\n",
      "               precision    recall  f1-score   support\n",
      "\n",
      "           0       0.85      0.39      0.54        28\n",
      "           1       0.00      0.00      0.00         2\n",
      "\n",
      "    accuracy                           0.37        30\n",
      "   macro avg       0.42      0.20      0.27        30\n",
      "weighted avg       0.79      0.37      0.50        30\n",
      "\n",
      "----------------------------------------------------------\n",
      "\n",
      "\n",
      "\n",
      "Number of states:  3\n",
      "preds {0:F, L:1}: [2 1 0 1 0 0 0 0 0 1 1 2 2 2 1 0 1 1 0 2 0 2 2 1 0 2 1 0 2 1]\n",
      "\n",
      "\n",
      "\n",
      "Log Likelihood:  -57.94501734515244 \n",
      "\n",
      "\n",
      "error:  0.6666666666666667\n",
      "mean squared error:  1.4666666666666666 \n",
      "\n",
      "Classification Report:\n",
      "\n",
      "               precision    recall  f1-score   support\n",
      "\n",
      "           0       0.91      0.36      0.51        28\n",
      "           1       0.00      0.00      0.00         2\n",
      "           2       0.00      0.00      0.00         0\n",
      "\n",
      "    accuracy                           0.33        30\n",
      "   macro avg       0.30      0.12      0.17        30\n",
      "weighted avg       0.85      0.33      0.48        30\n",
      "\n",
      "----------------------------------------------------------\n",
      "\n",
      "\n",
      "\n",
      "Number of states:  4\n",
      "preds {0:F, L:1}: [2 1 0 3 3 1 0 0 1 1 1 3 1 2 1 0 3 1 0 2 1 1 3 1 0 2 3 3 3 1]\n",
      "\n",
      "\n",
      "\n",
      "Log Likelihood:  -58.090873485773145 \n",
      "\n",
      "\n",
      "error:  0.8333333333333334\n",
      "mean squared error:  3.2666666666666666 \n",
      "\n",
      "Classification Report:\n",
      "\n",
      "               precision    recall  f1-score   support\n",
      "\n",
      "           0       0.83      0.18      0.29        28\n",
      "           1       0.00      0.00      0.00         2\n",
      "           2       0.00      0.00      0.00         0\n",
      "           3       0.00      0.00      0.00         0\n",
      "\n",
      "    accuracy                           0.17        30\n",
      "   macro avg       0.21      0.04      0.07        30\n",
      "weighted avg       0.78      0.17      0.27        30\n",
      "\n",
      "----------------------------------------------------------\n",
      "\n",
      "\n",
      "\n"
     ]
    }
   ],
   "source": [
    "# 100\n",
    "\n",
    "i = 1\n",
    "while(i < 5):\n",
    "    print(\"Number of states: \", i)\n",
    "       \n",
    "    classifyMHMM_model(i, x_train_rolls100, x_test, y_test_bin)\n",
    "    i += 1\n",
    "    print(\"\\n\")"
   ]
  },
  {
   "cell_type": "markdown",
   "id": "e3e96c97",
   "metadata": {},
   "source": [
    "### 1.3.3.2. (II) Rolls com 1000 amostras com todos o parâmetro desconhecidos e alterando o valor dos estados [1-4]"
   ]
  },
  {
   "cell_type": "code",
   "execution_count": 286,
   "id": "0b84e18d",
   "metadata": {},
   "outputs": [
    {
     "name": "stdout",
     "output_type": "stream",
     "text": [
      "Number of states:  1\n",
      "preds {0:F, L:1}: [0 0 0 0 0 0 0 0 0 0 0 0 0 0 0 0 0 0 0 0 0 0 0 0 0 0 0 0 0 0]\n",
      "\n",
      "\n",
      "\n",
      "Log Likelihood:  -54.44137623655621 \n",
      "\n",
      "\n",
      "error:  0.06666666666666665\n",
      "mean squared error:  0.06666666666666667 \n",
      "\n",
      "Classification Report:\n",
      "\n",
      "               precision    recall  f1-score   support\n",
      "\n",
      "           0       0.93      1.00      0.97        28\n",
      "           1       0.00      0.00      0.00         2\n",
      "\n",
      "    accuracy                           0.93        30\n",
      "   macro avg       0.47      0.50      0.48        30\n",
      "weighted avg       0.87      0.93      0.90        30\n",
      "\n",
      "----------------------------------------------------------\n",
      "\n",
      "\n",
      "\n",
      "Number of states:  2\n",
      "preds {0:F, L:1}: [0 0 1 1 0 0 0 0 1 1 1 0 1 0 0 0 0 0 0 0 0 1 0 0 0 0 0 0 0 0]\n",
      "\n",
      "\n",
      "\n",
      "Log Likelihood:  -55.79630141304058 \n",
      "\n",
      "\n",
      "error:  0.30000000000000004\n",
      "mean squared error:  0.3 \n",
      "\n",
      "Classification Report:\n",
      "\n",
      "               precision    recall  f1-score   support\n",
      "\n",
      "           0       0.91      0.75      0.82        28\n",
      "           1       0.00      0.00      0.00         2\n",
      "\n",
      "    accuracy                           0.70        30\n",
      "   macro avg       0.46      0.38      0.41        30\n",
      "weighted avg       0.85      0.70      0.77        30\n",
      "\n",
      "----------------------------------------------------------\n",
      "\n",
      "\n",
      "\n",
      "Number of states:  3\n",
      "preds {0:F, L:1}: [2 0 0 1 2 0 0 0 0 1 1 2 1 2 0 0 0 0 0 2 1 1 2 0 0 2 0 0 2 1]\n",
      "\n",
      "\n",
      "\n",
      "Log Likelihood:  -54.371564322598914 \n",
      "\n",
      "\n",
      "error:  0.5333333333333333\n",
      "mean squared error:  1.2333333333333334 \n",
      "\n",
      "Classification Report:\n",
      "\n",
      "               precision    recall  f1-score   support\n",
      "\n",
      "           0       0.93      0.50      0.65        28\n",
      "           1       0.00      0.00      0.00         2\n",
      "           2       0.00      0.00      0.00         0\n",
      "\n",
      "    accuracy                           0.47        30\n",
      "   macro avg       0.31      0.17      0.22        30\n",
      "weighted avg       0.87      0.47      0.61        30\n",
      "\n",
      "----------------------------------------------------------\n",
      "\n",
      "\n",
      "\n",
      "Number of states:  4\n",
      "preds {0:F, L:1}: [2 0 0 1 3 0 0 0 0 1 1 3 1 2 0 0 0 0 0 2 1 1 3 3 3 2 3 3 3 1]\n",
      "\n",
      "\n",
      "\n",
      "Log Likelihood:  -54.32993998155247 \n",
      "\n",
      "\n",
      "error:  0.6333333333333333\n",
      "mean squared error:  2.9 \n",
      "\n",
      "Classification Report:\n",
      "\n",
      "               precision    recall  f1-score   support\n",
      "\n",
      "           0       1.00      0.39      0.56        28\n",
      "           1       0.00      0.00      0.00         2\n",
      "           2       0.00      0.00      0.00         0\n",
      "           3       0.00      0.00      0.00         0\n",
      "\n",
      "    accuracy                           0.37        30\n",
      "   macro avg       0.25      0.10      0.14        30\n",
      "weighted avg       0.93      0.37      0.53        30\n",
      "\n",
      "----------------------------------------------------------\n",
      "\n",
      "\n",
      "\n"
     ]
    }
   ],
   "source": [
    "# 1000\n",
    "\n",
    "i = 1\n",
    "while(i < 5):\n",
    "    print(\"Number of states: \", i)\n",
    "       \n",
    "    classifyMHMM_model(i, x_train_rolls1000, x_test, y_test_bin)\n",
    "    i += 1\n",
    "    print(\"\\n\")"
   ]
  },
  {
   "cell_type": "markdown",
   "id": "44be04c1",
   "metadata": {},
   "source": [
    "Resultados de log-likelihood obtidos em ambos os modelos:\n",
    "\n",
    "Rolls 100 amostras - target 30 amostras:\n",
    "\n",
    " * 1 state:  -56.87454481610908 \n",
    " * 2 states: -58.423164121333\n",
    " * 3 states: -57.94501734515244\n",
    " * 4 states: -58.090873485773145 \n",
    " \n",
    "Rolls 1000 amostras - target 30 amostras:\n",
    "* 1 state:  -54.44137623655621\n",
    "* 2 states: -55.79630141304058\n",
    "* 3 states: -54.371564322598914\n",
    "* 4 states: -54.32993998155247\n",
    "\n",
    "</br>\n",
    "\n",
    "Verifica-se que treinados sem parâmetros, para o modelo com 100 amostras o maior valor de log-likelihood obtido foi para o modelo treinado com apenas 1 estado (-56.9), enquanto que para o modelo com 1000 amostras o maior log-likelihood obtido para para o modelo treinado com 4 estados. O erro obtido para o modelo com 100 amostras treinado com 1 estado tem o valor de ~ 7%, enquanto que no modelo de 1000 amostras treinado com 4 estados foi obtido um erro no valor de ~ 63%.\n",
    "\n",
    "Deste modo, podemos concluir que para um modelo treinado sem parâmetros e apenas testando o número dos estados, talvez seja melhor o uso de um conjunto de dados mais pequeno, pois o erro obtido pelo modelo treinado com o conjunto de 1000 amostras (~ 63%) é muito superior comparativamente ao de 100 amostras (~ 7%). Apesar do valor de log-likelihood ser superior no modelo com 1000 amostras, mas poderá estar relacionado com o facto desta métrica estar correlacionada com a dimensão da amostra utilizada para treinar o modelo - quanto maior for o número de dados utilizados para treinar o modelo, melhor será o ajuste do modelo aos dados."
   ]
  }
 ],
 "metadata": {
  "kernelspec": {
   "display_name": "Python 3",
   "language": "python",
   "name": "python3"
  },
  "language_info": {
   "codemirror_mode": {
    "name": "ipython",
    "version": 3
   },
   "file_extension": ".py",
   "mimetype": "text/x-python",
   "name": "python",
   "nbconvert_exporter": "python",
   "pygments_lexer": "ipython3",
   "version": "3.8.10"
  }
 },
 "nbformat": 4,
 "nbformat_minor": 5
}
