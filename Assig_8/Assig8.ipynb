{
 "cells": [
  {
   "cell_type": "markdown",
   "metadata": {
    "id": "_iSUNSbHHImZ"
   },
   "source": [
    "# Advanced Machine Learning"
   ]
  },
  {
   "cell_type": "markdown",
   "metadata": {
    "id": "aKuhk0SSHImb"
   },
   "source": [
    "### Assigment 8 - Reinforcement Learning"
   ]
  },
  {
   "cell_type": "markdown",
   "metadata": {
    "id": "YN6u0z_FHImc"
   },
   "source": [
    "**Team:**\n",
    "    João Raimundo (57454), Rui Roque (57588)"
   ]
  },
  {
   "cell_type": "markdown",
   "metadata": {},
   "source": [
    "### 0.1. Import Packages"
   ]
  },
  {
   "cell_type": "code",
   "execution_count": 4,
   "metadata": {},
   "outputs": [],
   "source": [
    "from datetime import datetime\n",
    "import random\n",
    "import gym\n",
    "import numpy as np\n",
    "from tqdm.auto import tqdm\n",
    "import seaborn as sns\n",
    "import matplotlib.pyplot as plt\n",
    "from gym.wrappers.monitoring.video_recorder import VideoRecorder\n",
    "\n",
    "# random seed\n",
    "np.random.seed(42)\n",
    "random.seed(42)"
   ]
  },
  {
   "cell_type": "markdown",
   "metadata": {},
   "source": [
    "# Problem 1 -- Mountain Car Problem"
   ]
  },
  {
   "cell_type": "markdown",
   "metadata": {},
   "source": [
    "In this assigment we train an agent to become proficient at solving the Mountain Car Problem.\n",
    "\n",
    "We will be using standard numpy to implement Q-Learning, and the environment provided by the OpenAI Gym (https://gym.openai.com/) framework.\n",
    "\n",
    "You can read a brief explanation of the environment here: https://gym.openai.com/envs/MountainCar-v0/. To really understand how it works in detail, you can take a look at its source code here: https://github.com/openai/gym/blob/master/gym/envs/classic_control/mountain_car.py.\n",
    "\n"
   ]
  },
  {
   "cell_type": "code",
   "execution_count": 5,
   "metadata": {},
   "outputs": [],
   "source": [
    "# \"Make\" the environment, as in, instantiate an object with an environment of the Mountain Car Problem.\n",
    "env = gym.make(\"MountainCar-v0\")"
   ]
  },
  {
   "cell_type": "markdown",
   "metadata": {},
   "source": [
    "The attribute `observation_space` stores the information of the shape (and contents) of the observation space. In this instance, it is a Box, meaning the observations are a cartesian product of the intervals of each dimension.\n",
    "\n",
    "For the mountain car problem, the first dimension is the current position (in the x-axis) of the car, which can take up values from -1.2 to 0.6. And the second dimension is the current velocity of the car, whose values range from -0.07 to 0.07."
   ]
  },
  {
   "cell_type": "code",
   "execution_count": 6,
   "metadata": {},
   "outputs": [
    {
     "data": {
      "text/plain": [
       "Box([-1.2  -0.07], [0.6  0.07], (2,), float32)"
      ]
     },
     "execution_count": 6,
     "metadata": {},
     "output_type": "execute_result"
    }
   ],
   "source": [
    "env.observation_space"
   ]
  },
  {
   "cell_type": "markdown",
   "metadata": {},
   "source": [
    "The following example illustrates how we can obtain the lower and upper bounds of the observation space for a given dimension. In this instance, it is dimension 0 (first)."
   ]
  },
  {
   "cell_type": "code",
   "execution_count": 7,
   "metadata": {},
   "outputs": [
    {
     "name": "stdout",
     "output_type": "stream",
     "text": [
      "Lower bound for first dimension: -1.2\n",
      "Upper bound for first dimension: 0.6\n"
     ]
    }
   ],
   "source": [
    "print(\"Lower bound for first dimension:\", env.observation_space.low[0])\n",
    "print(\"Upper bound for first dimension:\", env.observation_space.high[0])"
   ]
  },
  {
   "cell_type": "markdown",
   "metadata": {},
   "source": [
    "The attribute `action_space` stores the information of the shape (and contents) of the action space. In this instance, it is a discrete space with dimension 3, meaning it can take up 3 values.\n",
    "\n",
    "For the mountain car problem, action 0 means accelerate left, 1 means do not accelerate, and 2 means accelerate right."
   ]
  },
  {
   "cell_type": "code",
   "execution_count": 8,
   "metadata": {},
   "outputs": [
    {
     "data": {
      "text/plain": [
       "Discrete(3)"
      ]
     },
     "execution_count": 8,
     "metadata": {},
     "output_type": "execute_result"
    }
   ],
   "source": [
    "env.action_space"
   ]
  },
  {
   "cell_type": "markdown",
   "metadata": {},
   "source": [
    "### 1.1. Q-Learning\n",
    "\n",
    "Q-Learning is a reinforcement learning algorithm to learn the expected cost, or reward, of the action of an agent acting on an environment with a particular observed state. In the Moutain Problem, a state is a (position, velocity) pair.\n",
    "\n",
    "In practical terms, the expected costs or rewards are stored in what is called a Q-Table, where for a value is attributed to each state and possible actions within that state.\n",
    "\n",
    "The agent explores the environment and receives rewards for its actions, which can then be used to estimate future rewards. In this environment, for each action the agent takes, it is awarded -1 if it is not at the objective, and 0 if it is.\n",
    "\n",
    "At each step, the agent does one of two things: a random action, which would be an exploration strategy; or it chooses the action which minimizes cost or maximizes reward (according to its Q-Table), exploiting its knowledge.\n",
    "\n",
    "The Mountain Car problem has bounded continuous observation space. If one were to build a Q-Table from the cartesian product of the observation dimensions, it would be virtually infinite as the position and velocity are continuous. However, as it is a bounded space, we can discretize it in order to build a Q-Table that is more tractable.\n",
    "\n",
    "A simple way to discretize them is the following: convert to decimals by multiplying position by 10 and velocity by 100 and rounding it to the nearest integer. Shift it to start to 0 by adding the absolute value of the minimum value.\n",
    "\n",
    "E.g. position is bounded by the interval [-1.2, 0.6], if we discretize this space by transforming to ints, we get 3 possible positions: -1, 0 and 1. If we multiply by 10 to get to the dozens, we have a position from [-12 to 6], meaning we get 19 possible positions, which allows for higher precision.\n",
    "\n",
    "We do the same for the velocity, but by multiplying by 100 as it is bounded by [-0.07, 0.07]."
   ]
  },
  {
   "cell_type": "code",
   "execution_count": 9,
   "metadata": {},
   "outputs": [
    {
     "name": "stdout",
     "output_type": "stream",
     "text": [
      "Discretized position observation space: 19\n",
      "Discretized velocity observation space: 15\n",
      "Total states: 855\n"
     ]
    }
   ],
   "source": [
    "num_pos = np.round(env.observation_space.high[0] * 10 - env.observation_space.low[0] * 10).astype(\"int\") + 1\n",
    "print(f\"Discretized position observation space: {num_pos}\")\n",
    "num_vel = np.round(env.observation_space.high[1] * 100 - env.observation_space.low[1] * 100).astype(\"int\") + 1\n",
    "print(f\"Discretized velocity observation space: {num_vel}\")\n",
    "print(f\"Total states: {num_pos * num_vel * env.action_space.n}\")"
   ]
  },
  {
   "cell_type": "markdown",
   "metadata": {},
   "source": [
    "This helper function translates the original observation space to our discretized space. First we need to scale the position by multiplying by 10 and velocity by 100, and then shift them to start at 0.\n",
    "\n",
    "To do this, we just need to sum the absolute value of the lower bound!\n",
    "\n",
    "We can then use these values to index the Q-Table."
   ]
  },
  {
   "cell_type": "code",
   "execution_count": 15,
   "metadata": {},
   "outputs": [],
   "source": [
    "def get_state_from_observation(env, observation):\n",
    "    pos, vel = observation\n",
    "    pos = np.round((pos * 10 + abs(env.observation_space.low[0] * 10))).astype(\"int\")\n",
    "    vel = np.round((vel * 100 + abs(env.observation_space.low[1] * 100))).astype(\"int\")\n",
    "    return pos, vel"
   ]
  },
  {
   "cell_type": "markdown",
   "metadata": {},
   "source": [
    "We initialize the Q-table filling it with zeros. The matrix shape have the next configuration: `(number of positions, number of velocities, number of actions)`."
   ]
  },
  {
   "cell_type": "code",
   "execution_count": 11,
   "metadata": {},
   "outputs": [],
   "source": [
    "#(19,15,3) q-table shape\n",
    "def init_qtable(env):\n",
    "    qtable = np.zeros((19,15,3))  # fill with zeros\n",
    "    return qtable"
   ]
  },
  {
   "cell_type": "code",
   "execution_count": 12,
   "metadata": {},
   "outputs": [
    {
     "data": {
      "text/plain": [
       "(19, 15, 3)"
      ]
     },
     "execution_count": 12,
     "metadata": {},
     "output_type": "execute_result"
    }
   ],
   "source": [
    "qtable = init_qtable(env)\n",
    "qtable.shape"
   ]
  },
  {
   "cell_type": "markdown",
   "metadata": {},
   "source": [
    "Set parameter values"
   ]
  },
  {
   "cell_type": "code",
   "execution_count": 16,
   "metadata": {},
   "outputs": [],
   "source": [
    "NUM_EPISODES = 10000 \n",
    "STEPS_PER_EPISODE = 1000 \n",
    "ALPHA = 1\n",
    "BETA = 1\n",
    "GAMMA = 0.9\n",
    "EPSILON_INIT = 1.0\n",
    "MIN_EPSILON = 0.05\n",
    "LEARNING_RATE = 0.1 #0.2"
   ]
  },
  {
   "cell_type": "markdown",
   "metadata": {},
   "source": [
    "We implement the q-learning algorithm with 10000 episodes and 1000 steps per episode."
   ]
  },
  {
   "cell_type": "code",
   "execution_count": 14,
   "metadata": {},
   "outputs": [],
   "source": [
    "env._max_episode_steps = STEPS_PER_EPISODE"
   ]
  },
  {
   "cell_type": "markdown",
   "metadata": {},
   "source": [
    "Implement the Q-Learning algorithm in the train loop."
   ]
  },
  {
   "cell_type": "code",
   "execution_count": 14,
   "metadata": {},
   "outputs": [
    {
     "data": {
      "application/vnd.jupyter.widget-view+json": {
       "model_id": "c47ddffdc43e409ea4ffba31e8ca2009",
       "version_major": 2,
       "version_minor": 0
      },
      "text/plain": [
       "  0%|          | 0/10000 [00:00<?, ?it/s]"
      ]
     },
     "metadata": {},
     "output_type": "display_data"
    }
   ],
   "source": [
    "rewards = []\n",
    "\n",
    "with tqdm(total=NUM_EPISODES, position=0, leave=True) as pbar:\n",
    "    epsilon = EPSILON_INIT\n",
    "    for i_episode in range(NUM_EPISODES):\n",
    "        observation = env.reset()\n",
    "        pos, vel = get_state_from_observation(env, observation)\n",
    "        total_rewards = 0.0\n",
    "\n",
    "        for t in range(STEPS_PER_EPISODE):\n",
    "            # implemented action\n",
    "            if(np.random.random() < 1 - epsilon):\n",
    "                action = np.argmax(qtable[pos, vel])\n",
    "            else:\n",
    "                action = np.random.randint(0, env.action_space.n)\n",
    "\n",
    "            # Take a step in the environment\n",
    "            observation, reward, done, info = env.step(action)\n",
    "            # Get new states from new observation\n",
    "            new_pos, new_vel = get_state_from_observation(env, observation)\n",
    "\n",
    "            # Implemented q-table update\n",
    "            if(done and observation[0] >= 0.5):\n",
    "                qtable[pos, vel, action] = reward\n",
    "            else:\n",
    "                qtable[pos, vel, action] = qtable[pos, vel, action] + LEARNING_RATE*(reward + GAMMA*np.max(qtable[new_pos, new_vel, action]) - qtable[pos, vel, action])\n",
    "\n",
    "            pos, vel = new_pos, new_vel\n",
    "            total_rewards += reward\n",
    "\n",
    "            if done:\n",
    "                break\n",
    "        \n",
    "        # Epsilon Decay\n",
    "        epsilon = (EPSILON_INIT - MIN_EPSILON) * max((NUM_EPISODES - i_episode) / NUM_EPISODES, 0) + MIN_EPSILON\n",
    "\n",
    "        rewards.append(total_rewards)\n",
    "        pbar.update(1)\n",
    "        pbar.set_postfix({\"Mean Rewards (last 100)\": np.mean(rewards[-100:]), \"Latest Reward\": total_rewards, \"epsilon\": epsilon})"
   ]
  },
  {
   "cell_type": "markdown",
   "metadata": {},
   "source": [
    "Saving Q-table and Rewards:"
   ]
  },
  {
   "cell_type": "code",
   "execution_count": null,
   "metadata": {},
   "outputs": [],
   "source": [
    "now = datetime.now().isoformat()\n",
    "np.save(f\"qtable.npy\", qtable)\n",
    "np.save(f\"rewards.npy\", np.array(rewards))"
   ]
  },
  {
   "cell_type": "markdown",
   "metadata": {},
   "source": [
    "Loading Q-table and Rewards:"
   ]
  },
  {
   "cell_type": "code",
   "execution_count": 18,
   "metadata": {},
   "outputs": [],
   "source": [
    "qtable = np.load(\"qtable.npy\")\n",
    "rewards = np.load(\"rewards.npy\")"
   ]
  },
  {
   "cell_type": "markdown",
   "metadata": {},
   "source": [
    "Plotting Results - Episodes Vs. Rewards"
   ]
  },
  {
   "cell_type": "code",
   "execution_count": 19,
   "metadata": {},
   "outputs": [
    {
     "data": {
      "image/png": "[encoded data removed]",
      "text/plain": [
       "<Figure size 1440x432 with 1 Axes>"
      ]
     },
     "metadata": {
      "needs_background": "light"
     },
     "output_type": "display_data"
    }
   ],
   "source": [
    "# linear regression plot\n",
    "plt.figure(figsize=(20, 6))\n",
    "reg_plot = sns.regplot(x=list(range(len(rewards))), y=rewards, scatter=False)\n",
    "reg_plot.set(xlabel='EPISODES', ylabel='REWARDS', title = ' Episodes Vs. Rewards')\n",
    "plt.show()"
   ]
  },
  {
   "cell_type": "markdown",
   "metadata": {},
   "source": [
    "Throught the learning process, the value of rewards increases."
   ]
  },
  {
   "cell_type": "code",
   "execution_count": 20,
   "metadata": {},
   "outputs": [
    {
     "data": {
      "image/png": "[encoded data removed]",
      "text/plain": [
       "<Figure size 1440x432 with 1 Axes>"
      ]
     },
     "metadata": {
      "needs_background": "light"
     },
     "output_type": "display_data"
    }
   ],
   "source": [
    "# line plot\n",
    "plt.figure(figsize=(20, 6))\n",
    "line_plot = sns.lineplot(x=list(range(len(rewards))), y=rewards)\n",
    "line_plot.set(xlabel='EPISODES', ylabel='REWARDS', title = ' Episodes Vs. Rewards')\n",
    "plt.show()"
   ]
  },
  {
   "cell_type": "markdown",
   "metadata": {},
   "source": [
    "The value of reward increases during the learning process by episodes. After the 7000 episode, it seems that the changes are minimal."
   ]
  },
  {
   "cell_type": "markdown",
   "metadata": {},
   "source": [
    "### Recording the video"
   ]
  },
  {
   "cell_type": "markdown",
   "metadata": {},
   "source": [
    "Saving the video as MP4"
   ]
  },
  {
   "cell_type": "code",
   "execution_count": 21,
   "metadata": {},
   "outputs": [
    {
     "name": "stderr",
     "output_type": "stream",
     "text": [
      "/home/redck/.local/lib/python3.8/site-packages/gym/wrappers/monitoring/video_recorder.py:421: DeprecationWarning: distutils Version classes are deprecated. Use packaging.version instead.\n",
      "  if distutils.version.LooseVersion(\n"
     ]
    }
   ],
   "source": [
    "RECORD = True\n",
    "\n",
    "observation = env.reset()\n",
    "pos, vel = get_state_from_observation(env, observation)\n",
    "if RECORD:\n",
    "    recorder = VideoRecorder(env, \"q-learning.mp4\") \n",
    "for t in range(STEPS_PER_EPISODE):\n",
    "    env.render()\n",
    "    if RECORD:\n",
    "        recorder.capture_frame()\n",
    "    action = np.argmax(qtable[pos, vel])\n",
    "    observation, reward, done, info = env.step(action)\n",
    "\n",
    "    pos, vel = get_state_from_observation(env, observation)\n",
    "\n",
    "    if done:\n",
    "        break"
   ]
  },
  {
   "cell_type": "code",
   "execution_count": 22,
   "metadata": {},
   "outputs": [],
   "source": [
    "recorder.close()\n",
    "env.close()"
   ]
  },
  {
   "cell_type": "markdown",
   "metadata": {},
   "source": [
    "## Problem 2\n"
   ]
  },
  {
   "cell_type": "markdown",
   "metadata": {},
   "source": [
    "<img src=\"problem2.JPG\" width=\"600\" height=\"440\">"
   ]
  },
  {
   "cell_type": "markdown",
   "metadata": {},
   "source": [
    "**Response:**\n",
    "<p>\n",
    "\n",
    "Given the observation and action spaces: <p>\n",
    "\n",
    " * The action space comprises four discrete actions. \n",
    " \n",
    " * The observation space `(-infinite, +infinite, (8,))`, tell us that the state represents a 8-dimentional box, so each state observation is a vector (float) values. Which is a infinity space.\n",
    "\n",
    "In Q-learning (and in general value based reinforcement learning) we are typically interested in learning a Q-function, Q(s,a). \n",
    "\n",
    "For tabular Q-learning, where we have a finite state and action space we can maintain a table lookup that maintains our current estimate of the Q-value. However, When we have an infinite state space it might not be manageable to maintain a separate Q-function for each state-action pair - it becomes impossible to use a table - and so we need to use function approximation to generalise across states. This is typically done using a deep neural network with the Q-learning algorithm (DQN) due to their expressive power."
   ]
  }
 ],
 "metadata": {
  "interpreter": {
   "hash": "916dbcbb3f70747c44a77c7bcd40155683ae19c65e1c03b4aa3499c5328201f1"
  },
  "kernelspec": {
   "display_name": "Python 3.8.10 64-bit",
   "language": "python",
   "name": "python3"
  },
  "language_info": {
   "codemirror_mode": {
    "name": "ipython",
    "version": 3
   },
   "file_extension": ".py",
   "mimetype": "text/x-python",
   "name": "python",
   "nbconvert_exporter": "python",
   "pygments_lexer": "ipython3",
   "version": "3.8.10"
  },
  "orig_nbformat": 4
 },
 "nbformat": 4,
 "nbformat_minor": 2
}
